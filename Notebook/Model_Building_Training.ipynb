{
 "cells": [
  {
   "cell_type": "markdown",
   "id": "03d9f39a",
   "metadata": {},
   "source": [
    "# Task 2 - Model Building and Training"
   ]
  },
  {
   "cell_type": "code",
   "execution_count": 1,
   "id": "395a585b",
   "metadata": {},
   "outputs": [],
   "source": [
    "import pandas as pd\n",
    "import numpy as np\n",
    "import os\n",
    "import sys\n",
    "import ipaddress\n",
    "import matplotlib.pyplot as plt\n",
    "import seaborn as sns\n",
    "from collections import Counter\n",
    "from datetime import datetime\n",
    "from sklearn.model_selection import train_test_split\n",
    "from sklearn.preprocessing import StandardScaler, OneHotEncoder\n",
    "from sklearn.impute import SimpleImputer\n",
    "from imblearn.over_sampling import SMOTE\n",
    "from imblearn.under_sampling import RandomUnderSampler\n",
    "sys.path.append(os.path.abspath(\"../Model_Training\"))\n",
    "from sklearn.preprocessing import StandardScaler\n",
    "from sklearn.linear_model import LogisticRegression\n",
    "from sklearn.ensemble import RandomForestClassifier\n",
    "from sklearn.metrics import f1_score, average_precision_score, confusion_matrix, classification_report\n",
    "import warnings\n",
    "warnings.filterwarnings(\"ignore\")"
   ]
  },
  {
   "cell_type": "code",
   "execution_count": 2,
   "id": "56166c5c",
   "metadata": {},
   "outputs": [],
   "source": [
    "os.chdir(\"..\")"
   ]
  },
  {
   "cell_type": "code",
   "execution_count": 3,
   "id": "47552ae5",
   "metadata": {},
   "outputs": [],
   "source": [
    "from Model_Training.preprocessing import load_data, preprocess_data\n",
    "from Model_Training.model_utils import train_model, evaluate_model, save_model"
   ]
  },
  {
   "cell_type": "code",
   "execution_count": 5,
   "id": "d661e448",
   "metadata": {},
   "outputs": [],
   "source": [
    "datasets = {\n",
    "        \"creditcard\": {\n",
    "            \"path\": \"Data/creditcard.csv\",\n",
    "            \"label_col\": \"Class\",\n",
    "            \"model_paths\": {\n",
    "                \"logistic\": \"Models/creditcard_logistic.pkl\",\n",
    "                \"ensemble\": \"Models/creditcard_rf.pkl\",\n",
    "            },\n",
    "            \"report_paths\": {\n",
    "                \"logistic\": \"Outputs/Evaluation_Reports/creditcard_logistic_report.txt\",\n",
    "                \"ensemble\": \"Outputs/Evaluation_Reports/creditcard_rf_report.txt\",\n",
    "            }\n",
    "        },\n",
    "        \"fraud_data\": {\n",
    "            \"path\": \"Data/fraud_data.csv\",\n",
    "            \"label_col\": \"class\",\n",
    "            \"model_paths\": {\n",
    "                \"logistic\": \"Models/frauddata_logistic.pkl\",\n",
    "                \"ensemble\": \"Models/frauddata_rf.pkl\",\n",
    "            },\n",
    "            \"report_paths\": {\n",
    "                \"logistic\": \"Outputs/Evaluation_Reports/frauddata_logistic_report.txt\",\n",
    "                \"ensemble\": \"Outputs/Evaluation_Reports/frauddata_rf_report.txt\",\n",
    "            }\n",
    "        }\n",
    "    }"
   ]
  },
  {
   "cell_type": "code",
   "execution_count": null,
   "id": "5d8bdc49",
   "metadata": {},
   "outputs": [
    {
     "name": "stdout",
     "output_type": "stream",
     "text": [
      "\n",
      "--- Processing creditcard ---\n",
      "Dataset: creditcard\n",
      "Model: Logistic Regression\n",
      "F1 Score: 0.9489\n",
      "AUC-PR: 0.9912\n",
      "Confusion Matrix:\n",
      "[[55361  1389]\n",
      " [ 4289 52687]]\n",
      "Classification Report:\n",
      "              precision    recall  f1-score   support\n",
      "\n",
      "           0       0.93      0.98      0.95     56750\n",
      "           1       0.97      0.92      0.95     56976\n",
      "\n",
      "    accuracy                           0.95    113726\n",
      "   macro avg       0.95      0.95      0.95    113726\n",
      "weighted avg       0.95      0.95      0.95    113726\n",
      "\n",
      "\n"
     ]
    }
   ],
   "source": [
    "for dataset_name, config in datasets.items():\n",
    "    print(f\"\\n--- Processing {dataset_name} ---\")\n",
    "    df = load_data(config[\"path\"])\n",
    "    if df is None:\n",
    "            continue\n",
    "    X_train, X_test, y_train, y_test = preprocess_data(df, config[\"label_col\"])\n",
    "\n",
    "        # Logistic Regression\n",
    "    logistic_model = train_model(X_train, y_train, model_type=\"logistic\")\n",
    "    save_model(logistic_model, config[\"model_paths\"][\"logistic\"])\n",
    "    evaluate_model(logistic_model, X_test, y_test, dataset_name, \"Logistic Regression\", config[\"report_paths\"][\"logistic\"])\n",
    "\n",
    "    # Random Forest (Ensemble)\n",
    "    rf_model = train_model(X_train, y_train, model_type=\"random_forest\")\n",
    "    save_model(rf_model, config[\"model_paths\"][\"ensemble\"])\n",
    "    evaluate_model(rf_model, X_test, y_test, dataset_name, \"Random Forest\", config[\"report_paths\"][\"ensemble\"])"
   ]
  }
 ],
 "metadata": {
  "kernelspec": {
   "display_name": "Python 3",
   "language": "python",
   "name": "python3"
  },
  "language_info": {
   "codemirror_mode": {
    "name": "ipython",
    "version": 3
   },
   "file_extension": ".py",
   "mimetype": "text/x-python",
   "name": "python",
   "nbconvert_exporter": "python",
   "pygments_lexer": "ipython3",
   "version": "3.11.0"
  }
 },
 "nbformat": 4,
 "nbformat_minor": 5
}
